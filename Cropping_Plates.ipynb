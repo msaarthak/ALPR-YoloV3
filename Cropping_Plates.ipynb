{
  "nbformat": 4,
  "nbformat_minor": 0,
  "metadata": {
    "colab": {
      "name": "Cropping_Plates.ipynb",
      "provenance": []
    },
    "kernelspec": {
      "name": "python3",
      "display_name": "Python 3"
    }
  },
  "cells": [
    {
      "cell_type": "code",
      "metadata": {
        "id": "Zuy1WgUdUt1H",
        "colab_type": "code",
        "colab": {}
      },
      "source": [
        ""
      ],
      "execution_count": null,
      "outputs": []
    },
    {
      "cell_type": "code",
      "metadata": {
        "id": "EDV5vBbF3xHU",
        "colab_type": "code",
        "colab": {
          "base_uri": "https://localhost:8080/",
          "height": 367
        },
        "outputId": "19112e8a-1b1d-4efd-df1d-430f69d57043"
      },
      "source": [
        "! pip install pydrive \n",
        "import os\n",
        "from pydrive.auth import GoogleAuth\n",
        "from pydrive.drive import GoogleDrive\n",
        "from google.colab import auth\n",
        "from oauth2client.client import GoogleCredentials\n",
        "# 1. Authenticate and create the PyDrive client.\n",
        "auth.authenticate_user()\n",
        "gauth = GoogleAuth()\n",
        "gauth.credentials = GoogleCredentials.get_application_default()\n",
        "drive = GoogleDrive(gauth)\n",
        "local_download_path = os.path.expanduser('~/data')\n",
        "try:\n",
        "  os.makedirs(local_download_path)\n",
        "except: pass\n",
        "from google.colab import drive\n",
        "drive.mount('/content/drive/',force_remount=True)"
      ],
      "execution_count": null,
      "outputs": [
        {
          "output_type": "stream",
          "text": [
            "Requirement already satisfied: pydrive in /usr/local/lib/python3.6/dist-packages (1.3.1)\n",
            "Requirement already satisfied: oauth2client>=4.0.0 in /usr/local/lib/python3.6/dist-packages (from pydrive) (4.1.3)\n",
            "Requirement already satisfied: PyYAML>=3.0 in /usr/local/lib/python3.6/dist-packages (from pydrive) (3.13)\n",
            "Requirement already satisfied: google-api-python-client>=1.2 in /usr/local/lib/python3.6/dist-packages (from pydrive) (1.7.11)\n",
            "Requirement already satisfied: pyasn1-modules>=0.0.5 in /usr/local/lib/python3.6/dist-packages (from oauth2client>=4.0.0->pydrive) (0.2.8)\n",
            "Requirement already satisfied: httplib2>=0.9.1 in /usr/local/lib/python3.6/dist-packages (from oauth2client>=4.0.0->pydrive) (0.11.3)\n",
            "Requirement already satisfied: six>=1.6.1 in /usr/local/lib/python3.6/dist-packages (from oauth2client>=4.0.0->pydrive) (1.12.0)\n",
            "Requirement already satisfied: pyasn1>=0.1.7 in /usr/local/lib/python3.6/dist-packages (from oauth2client>=4.0.0->pydrive) (0.4.8)\n",
            "Requirement already satisfied: rsa>=3.1.4 in /usr/local/lib/python3.6/dist-packages (from oauth2client>=4.0.0->pydrive) (4.0)\n",
            "Requirement already satisfied: google-auth-httplib2>=0.0.3 in /usr/local/lib/python3.6/dist-packages (from google-api-python-client>=1.2->pydrive) (0.0.3)\n",
            "Requirement already satisfied: google-auth>=1.4.1 in /usr/local/lib/python3.6/dist-packages (from google-api-python-client>=1.2->pydrive) (1.7.2)\n",
            "Requirement already satisfied: uritemplate<4dev,>=3.0.0 in /usr/local/lib/python3.6/dist-packages (from google-api-python-client>=1.2->pydrive) (3.0.1)\n",
            "Requirement already satisfied: cachetools<3.2,>=2.0.0 in /usr/local/lib/python3.6/dist-packages (from google-auth>=1.4.1->google-api-python-client>=1.2->pydrive) (3.1.1)\n",
            "Requirement already satisfied: setuptools>=40.3.0 in /usr/local/lib/python3.6/dist-packages (from google-auth>=1.4.1->google-api-python-client>=1.2->pydrive) (45.1.0)\n",
            "Go to this URL in a browser: https://accounts.google.com/o/oauth2/auth?client_id=947318989803-6bn6qk8qdgf4n4g3pfee6491hc0brc4i.apps.googleusercontent.com&redirect_uri=urn%3aietf%3awg%3aoauth%3a2.0%3aoob&response_type=code&scope=email%20https%3a%2f%2fwww.googleapis.com%2fauth%2fdocs.test%20https%3a%2f%2fwww.googleapis.com%2fauth%2fdrive%20https%3a%2f%2fwww.googleapis.com%2fauth%2fdrive.photos.readonly%20https%3a%2f%2fwww.googleapis.com%2fauth%2fpeopleapi.readonly\n",
            "\n",
            "Enter your authorization code:\n",
            "··········\n",
            "Mounted at /content/drive/\n"
          ],
          "name": "stdout"
        }
      ]
    },
    {
      "cell_type": "code",
      "metadata": {
        "id": "JX1vcngsVxM2",
        "colab_type": "code",
        "colab": {
          "base_uri": "https://localhost:8080/",
          "height": 35
        },
        "outputId": "75d54b89-d8f7-49ec-8e8e-6da17989b510"
      },
      "source": [
        "%cd 'drive/My Drive'"
      ],
      "execution_count": null,
      "outputs": [
        {
          "output_type": "stream",
          "text": [
            "/content/drive/My Drive\n"
          ],
          "name": "stdout"
        }
      ]
    },
    {
      "cell_type": "code",
      "metadata": {
        "id": "qWECUJJpV0Bs",
        "colab_type": "code",
        "colab": {
          "base_uri": "https://localhost:8080/",
          "height": 35
        },
        "outputId": "e22acb13-2002-41c1-bcf1-7e572ef9b317"
      },
      "source": [
        "%cd darknet"
      ],
      "execution_count": null,
      "outputs": [
        {
          "output_type": "stream",
          "text": [
            "/content/drive/My Drive/darknet\n"
          ],
          "name": "stdout"
        }
      ]
    },
    {
      "cell_type": "code",
      "metadata": {
        "id": "n3lsscTlV3rK",
        "colab_type": "code",
        "colab": {}
      },
      "source": [
        "import pandas as pd\n",
        "import json\n"
      ],
      "execution_count": null,
      "outputs": []
    },
    {
      "cell_type": "code",
      "metadata": {
        "id": "KcgJBzuPWEy9",
        "colab_type": "code",
        "colab": {
          "base_uri": "https://localhost:8080/",
          "height": 415
        },
        "outputId": "56c20226-1fcd-4754-c1aa-143ad4cf7782"
      },
      "source": [
        "#loading results of YOLOv3 Detection\n",
        "with open('result_plates.json') as file:\n",
        "    data = json.load(file)\n",
        "df = pd.DataFrame(data)\n",
        "df"
      ],
      "execution_count": null,
      "outputs": [
        {
          "output_type": "execute_result",
          "data": {
            "text/html": [
              "<div>\n",
              "<style scoped>\n",
              "    .dataframe tbody tr th:only-of-type {\n",
              "        vertical-align: middle;\n",
              "    }\n",
              "\n",
              "    .dataframe tbody tr th {\n",
              "        vertical-align: top;\n",
              "    }\n",
              "\n",
              "    .dataframe thead th {\n",
              "        text-align: right;\n",
              "    }\n",
              "</style>\n",
              "<table border=\"1\" class=\"dataframe\">\n",
              "  <thead>\n",
              "    <tr style=\"text-align: right;\">\n",
              "      <th></th>\n",
              "      <th>frame_id</th>\n",
              "      <th>filename</th>\n",
              "      <th>objects</th>\n",
              "    </tr>\n",
              "  </thead>\n",
              "  <tbody>\n",
              "    <tr>\n",
              "      <th>0</th>\n",
              "      <td>1</td>\n",
              "      <td>data/img2/0.jpg</td>\n",
              "      <td>[{'class_id': 0, 'name': 'NumberPlate', 'relat...</td>\n",
              "    </tr>\n",
              "    <tr>\n",
              "      <th>1</th>\n",
              "      <td>2</td>\n",
              "      <td>data/img2/1.jpg</td>\n",
              "      <td>[{'class_id': 0, 'name': 'NumberPlate', 'relat...</td>\n",
              "    </tr>\n",
              "    <tr>\n",
              "      <th>2</th>\n",
              "      <td>3</td>\n",
              "      <td>data/img2/10.jpg</td>\n",
              "      <td>[{'class_id': 0, 'name': 'NumberPlate', 'relat...</td>\n",
              "    </tr>\n",
              "    <tr>\n",
              "      <th>3</th>\n",
              "      <td>4</td>\n",
              "      <td>data/img2/100.jpg</td>\n",
              "      <td>[{'class_id': 0, 'name': 'NumberPlate', 'relat...</td>\n",
              "    </tr>\n",
              "    <tr>\n",
              "      <th>4</th>\n",
              "      <td>5</td>\n",
              "      <td>data/img2/101.jpg</td>\n",
              "      <td>[]</td>\n",
              "    </tr>\n",
              "    <tr>\n",
              "      <th>...</th>\n",
              "      <td>...</td>\n",
              "      <td>...</td>\n",
              "      <td>...</td>\n",
              "    </tr>\n",
              "    <tr>\n",
              "      <th>137</th>\n",
              "      <td>138</td>\n",
              "      <td>data/img2/95.jpg</td>\n",
              "      <td>[{'class_id': 0, 'name': 'NumberPlate', 'relat...</td>\n",
              "    </tr>\n",
              "    <tr>\n",
              "      <th>138</th>\n",
              "      <td>139</td>\n",
              "      <td>data/img2/96.jpg</td>\n",
              "      <td>[{'class_id': 0, 'name': 'NumberPlate', 'relat...</td>\n",
              "    </tr>\n",
              "    <tr>\n",
              "      <th>139</th>\n",
              "      <td>140</td>\n",
              "      <td>data/img2/97.jpg</td>\n",
              "      <td>[{'class_id': 0, 'name': 'NumberPlate', 'relat...</td>\n",
              "    </tr>\n",
              "    <tr>\n",
              "      <th>140</th>\n",
              "      <td>141</td>\n",
              "      <td>data/img2/98.jpg</td>\n",
              "      <td>[{'class_id': 0, 'name': 'NumberPlate', 'relat...</td>\n",
              "    </tr>\n",
              "    <tr>\n",
              "      <th>141</th>\n",
              "      <td>142</td>\n",
              "      <td>data/img2/99.jpg</td>\n",
              "      <td>[{'class_id': 0, 'name': 'NumberPlate', 'relat...</td>\n",
              "    </tr>\n",
              "  </tbody>\n",
              "</table>\n",
              "<p>142 rows × 3 columns</p>\n",
              "</div>"
            ],
            "text/plain": [
              "     frame_id  ...                                            objects\n",
              "0           1  ...  [{'class_id': 0, 'name': 'NumberPlate', 'relat...\n",
              "1           2  ...  [{'class_id': 0, 'name': 'NumberPlate', 'relat...\n",
              "2           3  ...  [{'class_id': 0, 'name': 'NumberPlate', 'relat...\n",
              "3           4  ...  [{'class_id': 0, 'name': 'NumberPlate', 'relat...\n",
              "4           5  ...                                                 []\n",
              "..        ...  ...                                                ...\n",
              "137       138  ...  [{'class_id': 0, 'name': 'NumberPlate', 'relat...\n",
              "138       139  ...  [{'class_id': 0, 'name': 'NumberPlate', 'relat...\n",
              "139       140  ...  [{'class_id': 0, 'name': 'NumberPlate', 'relat...\n",
              "140       141  ...  [{'class_id': 0, 'name': 'NumberPlate', 'relat...\n",
              "141       142  ...  [{'class_id': 0, 'name': 'NumberPlate', 'relat...\n",
              "\n",
              "[142 rows x 3 columns]"
            ]
          },
          "metadata": {
            "tags": []
          },
          "execution_count": 7
        }
      ]
    },
    {
      "cell_type": "code",
      "metadata": {
        "id": "dxi9yJ9EbtsR",
        "colab_type": "code",
        "colab": {}
      },
      "source": [
        "med=[]\n",
        "def check(x):\n",
        "    for y in x:\n",
        "        if y['name']==\"NumberPlate\":\n",
        "                    return True\n",
        "    return False\n",
        "df['plates']=df['objects'].transform(lambda temp:check(temp))"
      ],
      "execution_count": null,
      "outputs": []
    },
    {
      "cell_type": "code",
      "metadata": {
        "id": "H1ALNBKob0IU",
        "colab_type": "code",
        "colab": {
          "base_uri": "https://localhost:8080/",
          "height": 415
        },
        "outputId": "df7b3226-5ebd-4c30-df87-9017e9527fcd"
      },
      "source": [
        "df"
      ],
      "execution_count": null,
      "outputs": [
        {
          "output_type": "execute_result",
          "data": {
            "text/html": [
              "<div>\n",
              "<style scoped>\n",
              "    .dataframe tbody tr th:only-of-type {\n",
              "        vertical-align: middle;\n",
              "    }\n",
              "\n",
              "    .dataframe tbody tr th {\n",
              "        vertical-align: top;\n",
              "    }\n",
              "\n",
              "    .dataframe thead th {\n",
              "        text-align: right;\n",
              "    }\n",
              "</style>\n",
              "<table border=\"1\" class=\"dataframe\">\n",
              "  <thead>\n",
              "    <tr style=\"text-align: right;\">\n",
              "      <th></th>\n",
              "      <th>frame_id</th>\n",
              "      <th>filename</th>\n",
              "      <th>objects</th>\n",
              "      <th>plates</th>\n",
              "    </tr>\n",
              "  </thead>\n",
              "  <tbody>\n",
              "    <tr>\n",
              "      <th>0</th>\n",
              "      <td>1</td>\n",
              "      <td>data/img2/0.jpg</td>\n",
              "      <td>[{'class_id': 0, 'name': 'NumberPlate', 'relat...</td>\n",
              "      <td>True</td>\n",
              "    </tr>\n",
              "    <tr>\n",
              "      <th>1</th>\n",
              "      <td>2</td>\n",
              "      <td>data/img2/1.jpg</td>\n",
              "      <td>[{'class_id': 0, 'name': 'NumberPlate', 'relat...</td>\n",
              "      <td>True</td>\n",
              "    </tr>\n",
              "    <tr>\n",
              "      <th>2</th>\n",
              "      <td>3</td>\n",
              "      <td>data/img2/10.jpg</td>\n",
              "      <td>[{'class_id': 0, 'name': 'NumberPlate', 'relat...</td>\n",
              "      <td>True</td>\n",
              "    </tr>\n",
              "    <tr>\n",
              "      <th>3</th>\n",
              "      <td>4</td>\n",
              "      <td>data/img2/100.jpg</td>\n",
              "      <td>[{'class_id': 0, 'name': 'NumberPlate', 'relat...</td>\n",
              "      <td>True</td>\n",
              "    </tr>\n",
              "    <tr>\n",
              "      <th>4</th>\n",
              "      <td>5</td>\n",
              "      <td>data/img2/101.jpg</td>\n",
              "      <td>[]</td>\n",
              "      <td>False</td>\n",
              "    </tr>\n",
              "    <tr>\n",
              "      <th>...</th>\n",
              "      <td>...</td>\n",
              "      <td>...</td>\n",
              "      <td>...</td>\n",
              "      <td>...</td>\n",
              "    </tr>\n",
              "    <tr>\n",
              "      <th>137</th>\n",
              "      <td>138</td>\n",
              "      <td>data/img2/95.jpg</td>\n",
              "      <td>[{'class_id': 0, 'name': 'NumberPlate', 'relat...</td>\n",
              "      <td>True</td>\n",
              "    </tr>\n",
              "    <tr>\n",
              "      <th>138</th>\n",
              "      <td>139</td>\n",
              "      <td>data/img2/96.jpg</td>\n",
              "      <td>[{'class_id': 0, 'name': 'NumberPlate', 'relat...</td>\n",
              "      <td>True</td>\n",
              "    </tr>\n",
              "    <tr>\n",
              "      <th>139</th>\n",
              "      <td>140</td>\n",
              "      <td>data/img2/97.jpg</td>\n",
              "      <td>[{'class_id': 0, 'name': 'NumberPlate', 'relat...</td>\n",
              "      <td>True</td>\n",
              "    </tr>\n",
              "    <tr>\n",
              "      <th>140</th>\n",
              "      <td>141</td>\n",
              "      <td>data/img2/98.jpg</td>\n",
              "      <td>[{'class_id': 0, 'name': 'NumberPlate', 'relat...</td>\n",
              "      <td>True</td>\n",
              "    </tr>\n",
              "    <tr>\n",
              "      <th>141</th>\n",
              "      <td>142</td>\n",
              "      <td>data/img2/99.jpg</td>\n",
              "      <td>[{'class_id': 0, 'name': 'NumberPlate', 'relat...</td>\n",
              "      <td>True</td>\n",
              "    </tr>\n",
              "  </tbody>\n",
              "</table>\n",
              "<p>142 rows × 4 columns</p>\n",
              "</div>"
            ],
            "text/plain": [
              "     frame_id  ... plates\n",
              "0           1  ...   True\n",
              "1           2  ...   True\n",
              "2           3  ...   True\n",
              "3           4  ...   True\n",
              "4           5  ...  False\n",
              "..        ...  ...    ...\n",
              "137       138  ...   True\n",
              "138       139  ...   True\n",
              "139       140  ...   True\n",
              "140       141  ...   True\n",
              "141       142  ...   True\n",
              "\n",
              "[142 rows x 4 columns]"
            ]
          },
          "metadata": {
            "tags": []
          },
          "execution_count": 9
        }
      ]
    },
    {
      "cell_type": "code",
      "metadata": {
        "id": "GTZxIDtEcofY",
        "colab_type": "code",
        "colab": {}
      },
      "source": [
        "df=df[df['plates']]"
      ],
      "execution_count": null,
      "outputs": []
    },
    {
      "cell_type": "code",
      "metadata": {
        "id": "h4tRlCS8csJS",
        "colab_type": "code",
        "colab": {
          "base_uri": "https://localhost:8080/",
          "height": 415
        },
        "outputId": "cdd4ac4c-ea61-4eca-ba1e-64873bc465c7"
      },
      "source": [
        "df"
      ],
      "execution_count": null,
      "outputs": [
        {
          "output_type": "execute_result",
          "data": {
            "text/html": [
              "<div>\n",
              "<style scoped>\n",
              "    .dataframe tbody tr th:only-of-type {\n",
              "        vertical-align: middle;\n",
              "    }\n",
              "\n",
              "    .dataframe tbody tr th {\n",
              "        vertical-align: top;\n",
              "    }\n",
              "\n",
              "    .dataframe thead th {\n",
              "        text-align: right;\n",
              "    }\n",
              "</style>\n",
              "<table border=\"1\" class=\"dataframe\">\n",
              "  <thead>\n",
              "    <tr style=\"text-align: right;\">\n",
              "      <th></th>\n",
              "      <th>frame_id</th>\n",
              "      <th>filename</th>\n",
              "      <th>objects</th>\n",
              "      <th>plates</th>\n",
              "    </tr>\n",
              "  </thead>\n",
              "  <tbody>\n",
              "    <tr>\n",
              "      <th>0</th>\n",
              "      <td>1</td>\n",
              "      <td>data/img2/0.jpg</td>\n",
              "      <td>[{'class_id': 0, 'name': 'NumberPlate', 'relat...</td>\n",
              "      <td>True</td>\n",
              "    </tr>\n",
              "    <tr>\n",
              "      <th>1</th>\n",
              "      <td>2</td>\n",
              "      <td>data/img2/1.jpg</td>\n",
              "      <td>[{'class_id': 0, 'name': 'NumberPlate', 'relat...</td>\n",
              "      <td>True</td>\n",
              "    </tr>\n",
              "    <tr>\n",
              "      <th>2</th>\n",
              "      <td>3</td>\n",
              "      <td>data/img2/10.jpg</td>\n",
              "      <td>[{'class_id': 0, 'name': 'NumberPlate', 'relat...</td>\n",
              "      <td>True</td>\n",
              "    </tr>\n",
              "    <tr>\n",
              "      <th>3</th>\n",
              "      <td>4</td>\n",
              "      <td>data/img2/100.jpg</td>\n",
              "      <td>[{'class_id': 0, 'name': 'NumberPlate', 'relat...</td>\n",
              "      <td>True</td>\n",
              "    </tr>\n",
              "    <tr>\n",
              "      <th>5</th>\n",
              "      <td>6</td>\n",
              "      <td>data/img2/102.jpg</td>\n",
              "      <td>[{'class_id': 0, 'name': 'NumberPlate', 'relat...</td>\n",
              "      <td>True</td>\n",
              "    </tr>\n",
              "    <tr>\n",
              "      <th>...</th>\n",
              "      <td>...</td>\n",
              "      <td>...</td>\n",
              "      <td>...</td>\n",
              "      <td>...</td>\n",
              "    </tr>\n",
              "    <tr>\n",
              "      <th>137</th>\n",
              "      <td>138</td>\n",
              "      <td>data/img2/95.jpg</td>\n",
              "      <td>[{'class_id': 0, 'name': 'NumberPlate', 'relat...</td>\n",
              "      <td>True</td>\n",
              "    </tr>\n",
              "    <tr>\n",
              "      <th>138</th>\n",
              "      <td>139</td>\n",
              "      <td>data/img2/96.jpg</td>\n",
              "      <td>[{'class_id': 0, 'name': 'NumberPlate', 'relat...</td>\n",
              "      <td>True</td>\n",
              "    </tr>\n",
              "    <tr>\n",
              "      <th>139</th>\n",
              "      <td>140</td>\n",
              "      <td>data/img2/97.jpg</td>\n",
              "      <td>[{'class_id': 0, 'name': 'NumberPlate', 'relat...</td>\n",
              "      <td>True</td>\n",
              "    </tr>\n",
              "    <tr>\n",
              "      <th>140</th>\n",
              "      <td>141</td>\n",
              "      <td>data/img2/98.jpg</td>\n",
              "      <td>[{'class_id': 0, 'name': 'NumberPlate', 'relat...</td>\n",
              "      <td>True</td>\n",
              "    </tr>\n",
              "    <tr>\n",
              "      <th>141</th>\n",
              "      <td>142</td>\n",
              "      <td>data/img2/99.jpg</td>\n",
              "      <td>[{'class_id': 0, 'name': 'NumberPlate', 'relat...</td>\n",
              "      <td>True</td>\n",
              "    </tr>\n",
              "  </tbody>\n",
              "</table>\n",
              "<p>140 rows × 4 columns</p>\n",
              "</div>"
            ],
            "text/plain": [
              "     frame_id  ... plates\n",
              "0           1  ...   True\n",
              "1           2  ...   True\n",
              "2           3  ...   True\n",
              "3           4  ...   True\n",
              "5           6  ...   True\n",
              "..        ...  ...    ...\n",
              "137       138  ...   True\n",
              "138       139  ...   True\n",
              "139       140  ...   True\n",
              "140       141  ...   True\n",
              "141       142  ...   True\n",
              "\n",
              "[140 rows x 4 columns]"
            ]
          },
          "metadata": {
            "tags": []
          },
          "execution_count": 11
        }
      ]
    },
    {
      "cell_type": "code",
      "metadata": {
        "id": "0LxxwkvI1qo_",
        "colab_type": "code",
        "colab": {
          "base_uri": "https://localhost:8080/",
          "height": 121
        },
        "outputId": "8b3e37e6-e9fc-4a09-fe49-a20ebf470d9d"
      },
      "source": [
        "df['filename']=df['filename'].transform(lambda f:f.split('/')[-1])\n",
        "in_book=list(df['filename'])"
      ],
      "execution_count": null,
      "outputs": [
        {
          "output_type": "stream",
          "text": [
            "/usr/local/lib/python3.6/dist-packages/ipykernel_launcher.py:1: SettingWithCopyWarning: \n",
            "A value is trying to be set on a copy of a slice from a DataFrame.\n",
            "Try using .loc[row_indexer,col_indexer] = value instead\n",
            "\n",
            "See the caveats in the documentation: http://pandas.pydata.org/pandas-docs/stable/user_guide/indexing.html#returning-a-view-versus-a-copy\n",
            "  \"\"\"Entry point for launching an IPython kernel.\n"
          ],
          "name": "stderr"
        }
      ]
    },
    {
      "cell_type": "code",
      "metadata": {
        "id": "fMhSi6F212aC",
        "colab_type": "code",
        "colab": {
          "base_uri": "https://localhost:8080/",
          "height": 173
        },
        "outputId": "1fce96a6-c5f6-4c27-b974-718c4c61439f"
      },
      "source": [
        "%ls"
      ],
      "execution_count": null,
      "outputs": [
        {
          "output_type": "stream",
          "text": [
            "\u001b[0m\u001b[01;34m3rdparty\u001b[0m/     CMakeLists.txt          \u001b[01;34mimg2\u001b[0m/                  README.md\n",
            "appveyor.yml  darknet                 \u001b[01;34minclude\u001b[0m/               result.json\n",
            "\u001b[01;34mbackup\u001b[0m/       darknet53.conv.74       json_mjpeg_streams.sh  result_plates.json\n",
            "bad.list      DarknetConfig.cmake.in  LICENSE                \u001b[01;34mresults\u001b[0m/\n",
            "\u001b[01;34mbuild\u001b[0m/        darknet.py              Makefile               \u001b[01;34mscripts\u001b[0m/\n",
            "build.ps1     darknet_video.py        net_cam_v3.sh          \u001b[01;34msrc\u001b[0m/\n",
            "build.sh      \u001b[01;34mdata\u001b[0m/                   \u001b[01;34mobj\u001b[0m/                   valid.txt\n",
            "\u001b[01;34mcfg\u001b[0m/          image_yolov2.sh         output.log             video_v2.sh\n",
            "\u001b[01;34mcmake\u001b[0m/        image_yolov3.sh         predictions.jpg        video_yolov3.sh\n"
          ],
          "name": "stdout"
        }
      ]
    },
    {
      "cell_type": "code",
      "metadata": {
        "id": "hVU9yM8z19rd",
        "colab_type": "code",
        "colab": {
          "base_uri": "https://localhost:8080/",
          "height": 35
        },
        "outputId": "3da6ae47-90ba-48d3-af28-938f8bb8c2da"
      },
      "source": [
        "%cd data/"
      ],
      "execution_count": null,
      "outputs": [
        {
          "output_type": "stream",
          "text": [
            "/content/drive/My Drive/darknet/data\n"
          ],
          "name": "stdout"
        }
      ]
    },
    {
      "cell_type": "code",
      "metadata": {
        "id": "T10Zc5112HKa",
        "colab_type": "code",
        "colab": {
          "base_uri": "https://localhost:8080/",
          "height": 35
        },
        "outputId": "862d6f90-7954-4233-a7bf-f66ecc124c84"
      },
      "source": [
        "%cd .."
      ],
      "execution_count": null,
      "outputs": [
        {
          "output_type": "stream",
          "text": [
            "/content/drive/My Drive/darknet\n"
          ],
          "name": "stdout"
        }
      ]
    },
    {
      "cell_type": "code",
      "metadata": {
        "id": "JwIQGJrH2KUY",
        "colab_type": "code",
        "colab": {
          "base_uri": "https://localhost:8080/",
          "height": 35
        },
        "outputId": "96483a71-560c-4b73-9849-f589f546a2de"
      },
      "source": [
        "%cd img2/"
      ],
      "execution_count": null,
      "outputs": [
        {
          "output_type": "stream",
          "text": [
            "/content/drive/My Drive/darknet/img2\n"
          ],
          "name": "stdout"
        }
      ]
    },
    {
      "cell_type": "code",
      "metadata": {
        "id": "YsMKjWC82TsA",
        "colab_type": "code",
        "colab": {}
      },
      "source": [
        "import subprocess\n",
        "proc=subprocess.Popen('ls', shell=True, stdout=subprocess.PIPE, )\n",
        "output=proc.communicate()[0]\n",
        "output=output.decode('utf-8').split('\\n')\n",
        "output=list(output)"
      ],
      "execution_count": null,
      "outputs": []
    },
    {
      "cell_type": "code",
      "metadata": {
        "id": "aXRWeWQN2hRj",
        "colab_type": "code",
        "colab": {}
      },
      "source": [
        "p=set(output)-set(in_book)"
      ],
      "execution_count": null,
      "outputs": []
    },
    {
      "cell_type": "code",
      "metadata": {
        "id": "R66J7y4e2lUo",
        "colab_type": "code",
        "colab": {
          "base_uri": "https://localhost:8080/",
          "height": 52
        },
        "outputId": "d29830d8-4a36-40e1-d707-717550963cd3"
      },
      "source": [
        "for x in p:\n",
        "    %rm $x"
      ],
      "execution_count": null,
      "outputs": [
        {
          "output_type": "stream",
          "text": [
            "rm: missing operand\n",
            "Try 'rm --help' for more information.\n"
          ],
          "name": "stdout"
        }
      ]
    },
    {
      "cell_type": "code",
      "metadata": {
        "id": "xl3H9aGx4crU",
        "colab_type": "code",
        "colab": {
          "base_uri": "https://localhost:8080/",
          "height": 121
        },
        "outputId": "98c14fff-52c9-4937-c4b3-d402915a2803"
      },
      "source": [
        "med=[]\n",
        "def check2(x):\n",
        "    for y in x:\n",
        "        if y['name']==\"NumberPlate\":\n",
        "                    return y\n",
        "    return False\n",
        "df['plate_data']=df['objects'].transform(lambda temp:check2(temp))"
      ],
      "execution_count": null,
      "outputs": [
        {
          "output_type": "stream",
          "text": [
            "/usr/local/lib/python3.6/dist-packages/ipykernel_launcher.py:7: SettingWithCopyWarning: \n",
            "A value is trying to be set on a copy of a slice from a DataFrame.\n",
            "Try using .loc[row_indexer,col_indexer] = value instead\n",
            "\n",
            "See the caveats in the documentation: http://pandas.pydata.org/pandas-docs/stable/user_guide/indexing.html#returning-a-view-versus-a-copy\n",
            "  import sys\n"
          ],
          "name": "stderr"
        }
      ]
    },
    {
      "cell_type": "code",
      "metadata": {
        "id": "OD5Ol9js4j64",
        "colab_type": "code",
        "colab": {
          "base_uri": "https://localhost:8080/",
          "height": 415
        },
        "outputId": "63ea9a16-b625-4008-efb2-d49f649423dd"
      },
      "source": [
        "df"
      ],
      "execution_count": null,
      "outputs": [
        {
          "output_type": "execute_result",
          "data": {
            "text/html": [
              "<div>\n",
              "<style scoped>\n",
              "    .dataframe tbody tr th:only-of-type {\n",
              "        vertical-align: middle;\n",
              "    }\n",
              "\n",
              "    .dataframe tbody tr th {\n",
              "        vertical-align: top;\n",
              "    }\n",
              "\n",
              "    .dataframe thead th {\n",
              "        text-align: right;\n",
              "    }\n",
              "</style>\n",
              "<table border=\"1\" class=\"dataframe\">\n",
              "  <thead>\n",
              "    <tr style=\"text-align: right;\">\n",
              "      <th></th>\n",
              "      <th>frame_id</th>\n",
              "      <th>filename</th>\n",
              "      <th>objects</th>\n",
              "      <th>plates</th>\n",
              "      <th>plate_data</th>\n",
              "    </tr>\n",
              "  </thead>\n",
              "  <tbody>\n",
              "    <tr>\n",
              "      <th>0</th>\n",
              "      <td>1</td>\n",
              "      <td>0.jpg</td>\n",
              "      <td>[{'class_id': 0, 'name': 'NumberPlate', 'relat...</td>\n",
              "      <td>True</td>\n",
              "      <td>{'class_id': 0, 'name': 'NumberPlate', 'relati...</td>\n",
              "    </tr>\n",
              "    <tr>\n",
              "      <th>1</th>\n",
              "      <td>2</td>\n",
              "      <td>1.jpg</td>\n",
              "      <td>[{'class_id': 0, 'name': 'NumberPlate', 'relat...</td>\n",
              "      <td>True</td>\n",
              "      <td>{'class_id': 0, 'name': 'NumberPlate', 'relati...</td>\n",
              "    </tr>\n",
              "    <tr>\n",
              "      <th>2</th>\n",
              "      <td>3</td>\n",
              "      <td>10.jpg</td>\n",
              "      <td>[{'class_id': 0, 'name': 'NumberPlate', 'relat...</td>\n",
              "      <td>True</td>\n",
              "      <td>{'class_id': 0, 'name': 'NumberPlate', 'relati...</td>\n",
              "    </tr>\n",
              "    <tr>\n",
              "      <th>3</th>\n",
              "      <td>4</td>\n",
              "      <td>100.jpg</td>\n",
              "      <td>[{'class_id': 0, 'name': 'NumberPlate', 'relat...</td>\n",
              "      <td>True</td>\n",
              "      <td>{'class_id': 0, 'name': 'NumberPlate', 'relati...</td>\n",
              "    </tr>\n",
              "    <tr>\n",
              "      <th>5</th>\n",
              "      <td>6</td>\n",
              "      <td>102.jpg</td>\n",
              "      <td>[{'class_id': 0, 'name': 'NumberPlate', 'relat...</td>\n",
              "      <td>True</td>\n",
              "      <td>{'class_id': 0, 'name': 'NumberPlate', 'relati...</td>\n",
              "    </tr>\n",
              "    <tr>\n",
              "      <th>...</th>\n",
              "      <td>...</td>\n",
              "      <td>...</td>\n",
              "      <td>...</td>\n",
              "      <td>...</td>\n",
              "      <td>...</td>\n",
              "    </tr>\n",
              "    <tr>\n",
              "      <th>137</th>\n",
              "      <td>138</td>\n",
              "      <td>95.jpg</td>\n",
              "      <td>[{'class_id': 0, 'name': 'NumberPlate', 'relat...</td>\n",
              "      <td>True</td>\n",
              "      <td>{'class_id': 0, 'name': 'NumberPlate', 'relati...</td>\n",
              "    </tr>\n",
              "    <tr>\n",
              "      <th>138</th>\n",
              "      <td>139</td>\n",
              "      <td>96.jpg</td>\n",
              "      <td>[{'class_id': 0, 'name': 'NumberPlate', 'relat...</td>\n",
              "      <td>True</td>\n",
              "      <td>{'class_id': 0, 'name': 'NumberPlate', 'relati...</td>\n",
              "    </tr>\n",
              "    <tr>\n",
              "      <th>139</th>\n",
              "      <td>140</td>\n",
              "      <td>97.jpg</td>\n",
              "      <td>[{'class_id': 0, 'name': 'NumberPlate', 'relat...</td>\n",
              "      <td>True</td>\n",
              "      <td>{'class_id': 0, 'name': 'NumberPlate', 'relati...</td>\n",
              "    </tr>\n",
              "    <tr>\n",
              "      <th>140</th>\n",
              "      <td>141</td>\n",
              "      <td>98.jpg</td>\n",
              "      <td>[{'class_id': 0, 'name': 'NumberPlate', 'relat...</td>\n",
              "      <td>True</td>\n",
              "      <td>{'class_id': 0, 'name': 'NumberPlate', 'relati...</td>\n",
              "    </tr>\n",
              "    <tr>\n",
              "      <th>141</th>\n",
              "      <td>142</td>\n",
              "      <td>99.jpg</td>\n",
              "      <td>[{'class_id': 0, 'name': 'NumberPlate', 'relat...</td>\n",
              "      <td>True</td>\n",
              "      <td>{'class_id': 0, 'name': 'NumberPlate', 'relati...</td>\n",
              "    </tr>\n",
              "  </tbody>\n",
              "</table>\n",
              "<p>140 rows × 5 columns</p>\n",
              "</div>"
            ],
            "text/plain": [
              "     frame_id  ...                                         plate_data\n",
              "0           1  ...  {'class_id': 0, 'name': 'NumberPlate', 'relati...\n",
              "1           2  ...  {'class_id': 0, 'name': 'NumberPlate', 'relati...\n",
              "2           3  ...  {'class_id': 0, 'name': 'NumberPlate', 'relati...\n",
              "3           4  ...  {'class_id': 0, 'name': 'NumberPlate', 'relati...\n",
              "5           6  ...  {'class_id': 0, 'name': 'NumberPlate', 'relati...\n",
              "..        ...  ...                                                ...\n",
              "137       138  ...  {'class_id': 0, 'name': 'NumberPlate', 'relati...\n",
              "138       139  ...  {'class_id': 0, 'name': 'NumberPlate', 'relati...\n",
              "139       140  ...  {'class_id': 0, 'name': 'NumberPlate', 'relati...\n",
              "140       141  ...  {'class_id': 0, 'name': 'NumberPlate', 'relati...\n",
              "141       142  ...  {'class_id': 0, 'name': 'NumberPlate', 'relati...\n",
              "\n",
              "[140 rows x 5 columns]"
            ]
          },
          "metadata": {
            "tags": []
          },
          "execution_count": 21
        }
      ]
    },
    {
      "cell_type": "code",
      "metadata": {
        "id": "6OaHm_wN4nrQ",
        "colab_type": "code",
        "colab": {}
      },
      "source": [
        "df=df.drop(['frame_id','objects','plates'],axis=1)\n"
      ],
      "execution_count": null,
      "outputs": []
    },
    {
      "cell_type": "code",
      "metadata": {
        "id": "_ZPrAQDb4qFw",
        "colab_type": "code",
        "colab": {
          "base_uri": "https://localhost:8080/",
          "height": 139
        },
        "outputId": "0d6d01b7-8ff5-452f-d951-7ac59586303a"
      },
      "source": [
        "df['plate_data'][0]"
      ],
      "execution_count": null,
      "outputs": [
        {
          "output_type": "execute_result",
          "data": {
            "text/plain": [
              "{'class_id': 0,\n",
              " 'confidence': 0.474979,\n",
              " 'name': 'NumberPlate',\n",
              " 'relative_coordinates': {'center_x': 0.49581,\n",
              "  'center_y': 0.373569,\n",
              "  'height': 0.024831,\n",
              "  'width': 0.090576}}"
            ]
          },
          "metadata": {
            "tags": []
          },
          "execution_count": 41
        }
      ]
    },
    {
      "cell_type": "code",
      "metadata": {
        "id": "4JK9WThE4sKQ",
        "colab_type": "code",
        "colab": {}
      },
      "source": [
        "data=df"
      ],
      "execution_count": null,
      "outputs": []
    },
    {
      "cell_type": "code",
      "metadata": {
        "id": "MtnVxrdR4tDL",
        "colab_type": "code",
        "colab": {}
      },
      "source": [
        "def details(x,flag_2):\n",
        "        co=x['relative_coordinates']\n",
        "        wid=float(co['width'])/2.0\n",
        "        hi=float(co['height'])/2.0\n",
        "        if flag_2=='y2':\n",
        "            return float(co['center_y'])+hi\n",
        "        if flag_2=='x2':\n",
        "            return float(co['center_x'])+wid\n",
        "        if flag_2=='x1':\n",
        "            return float(co['center_x'])-wid\n",
        "        if flag_2=='y1':\n",
        "            return float(co['center_y'])-hi\n",
        "data['x1']=data['plate_data'].transform(lambda f:details(f,'x1'))    \n",
        "data['y1']=data['plate_data'].transform(lambda f:details(f,'y1'))  \n",
        "data['x2']=data['plate_data'].transform(lambda f:details(f,'x2'))  \n",
        "data['y2']=data['plate_data'].transform(lambda f:details(f,'y2'))  "
      ],
      "execution_count": null,
      "outputs": []
    },
    {
      "cell_type": "code",
      "metadata": {
        "id": "ckrpTRJ58BUT",
        "colab_type": "code",
        "colab": {
          "base_uri": "https://localhost:8080/",
          "height": 1000
        },
        "outputId": "0a0352ed-aeb1-4f0b-dc4f-90e3d17d6119"
      },
      "source": [
        "from PIL import Image\n",
        "count=0\n",
        "for x,y in data.iterrows():\n",
        "        img = Image.open('/content/drive/My Drive/darknet/img2/'+str(y['filename']))\n",
        "        dim=img.size\n",
        "        w,h=dim[0],dim[1]\n",
        "        x1=y['x1']*w\n",
        "        x2=y['x2']*w\n",
        "        y1=y['y1']*h\n",
        "        y2=y['y2']*h\n",
        "        area=(x1,y1,x2,y2)\n",
        "        print(count)\n",
        "        cropped_img = img.crop(area)\n",
        "        cropped_img=cropped_img.convert('RGB')\n",
        "        cropped_img.save(\"/content/drive/My Drive/darknet/im/\"+str(x)+'.jpg')\n",
        "        count+=1"
      ],
      "execution_count": null,
      "outputs": [
        {
          "output_type": "stream",
          "text": [
            "0\n",
            "1\n",
            "2\n",
            "3\n",
            "4\n",
            "5\n",
            "6\n",
            "7\n",
            "8\n",
            "9\n",
            "10\n",
            "11\n",
            "12\n",
            "13\n",
            "14\n",
            "15\n",
            "16\n",
            "17\n",
            "18\n",
            "19\n",
            "20\n",
            "21\n",
            "22\n",
            "23\n",
            "24\n",
            "25\n",
            "26\n",
            "27\n",
            "28\n",
            "29\n",
            "30\n",
            "31\n",
            "32\n",
            "33\n",
            "34\n",
            "35\n",
            "36\n",
            "37\n",
            "38\n",
            "39\n",
            "40\n",
            "41\n",
            "42\n",
            "43\n",
            "44\n",
            "45\n",
            "46\n",
            "47\n",
            "48\n",
            "49\n",
            "50\n",
            "51\n",
            "52\n",
            "53\n",
            "54\n",
            "55\n",
            "56\n",
            "57\n",
            "58\n",
            "59\n",
            "60\n",
            "61\n",
            "62\n",
            "63\n",
            "64\n",
            "65\n",
            "66\n",
            "67\n",
            "68\n",
            "69\n",
            "70\n",
            "71\n",
            "72\n",
            "73\n",
            "74\n",
            "75\n",
            "76\n",
            "77\n",
            "78\n",
            "79\n",
            "80\n",
            "81\n",
            "82\n",
            "83\n",
            "84\n",
            "85\n",
            "86\n",
            "87\n",
            "88\n",
            "89\n",
            "90\n",
            "91\n",
            "92\n",
            "93\n",
            "94\n",
            "95\n",
            "96\n",
            "97\n",
            "98\n",
            "99\n",
            "100\n",
            "101\n",
            "102\n",
            "103\n",
            "104\n",
            "105\n",
            "106\n",
            "107\n",
            "108\n",
            "109\n",
            "110\n",
            "111\n",
            "112\n",
            "113\n",
            "114\n",
            "115\n",
            "116\n",
            "117\n",
            "118\n",
            "119\n",
            "120\n",
            "121\n",
            "122\n",
            "123\n",
            "124\n",
            "125\n",
            "126\n",
            "127\n",
            "128\n",
            "129\n",
            "130\n",
            "131\n",
            "132\n",
            "133\n",
            "134\n",
            "135\n",
            "136\n",
            "137\n",
            "138\n",
            "139\n"
          ],
          "name": "stdout"
        }
      ]
    }
  ]
}